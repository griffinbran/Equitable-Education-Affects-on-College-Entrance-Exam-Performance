{
 "cells": [
  {
   "cell_type": "markdown",
   "metadata": {},
   "source": [
    "## Exploratory Data Analysis\n",
    "\n",
    "1. Summary Statistics.\n",
    "        - That standard deviation\n",
    "\n",
    "3. Investigate trends in the data.\n",
    "    - Using sorting and/or masking, consider questions relevant to your problem statement:\n",
    "        - Which districts/counties have the highest and lowest participation rates for the 2017, 2019, or 2019 SAT and ACT?\n",
    "        - Which districts/counties have the highest and lowest mean total/composite scores for the 2017, 2019, or 2019 SAT and ACT?\n",
    "        - Do any districts/counties with 100% participation on a given test have a rate change year-to-year?\n",
    "        - Do any districts/counties show have >50% participation on *both* tests each year?\n",
    "        - Which colleges have the highest median SAT and ACT scores for admittance?\n",
    "        - Which California school districts have the highest and lowest mean test scores?\n",
    "    - **Find comments on findings at each step in a markdown cell below each code block**. Make sure you include at least one example of sorting your dataframe by a column, and one example of using boolean filtering (i.e., masking) to select a subset of the dataframe."
   ]
  },
  {
   "cell_type": "code",
   "execution_count": 1,
   "metadata": {},
   "outputs": [],
   "source": [
    "# Imports:\n",
    "import numpy as np\n",
    "import pandas as pd\n",
    "from random import randint\n",
    "import matplotlib.pyplot as plt\n",
    "import seaborn as sns\n",
    "\n",
    "# Load "
   ]
  },
  {
   "cell_type": "code",
   "execution_count": null,
   "metadata": {},
   "outputs": [],
   "source": [
    "sd = {column: std_dev(finaldf[column]) for column in list(finaldf.columns)  if finaldf[column].dtypes == 'int64' or finaldf[column].dtypes == 'float64'}"
   ]
  },
  {
   "cell_type": "code",
   "execution_count": 2,
   "metadata": {},
   "outputs": [
    {
     "ename": "NameError",
     "evalue": "name 'actdf' is not defined",
     "output_type": "error",
     "traceback": [
      "\u001b[1;31m---------------------------------------------------------------------------\u001b[0m",
      "\u001b[1;31mNameError\u001b[0m                                 Traceback (most recent call last)",
      "\u001b[1;32m<ipython-input-2-0a8c0b04db63>\u001b[0m in \u001b[0;36m<module>\u001b[1;34m\u001b[0m\n\u001b[0;32m      1\u001b[0m \u001b[1;31m#I wanted a dictionary mapping school districts to state counties to investigate higher-level statistics. The Equity data set did not have\u001b[0m\u001b[1;33m\u001b[0m\u001b[1;33m\u001b[0m\u001b[1;33m\u001b[0m\u001b[0m\n\u001b[0;32m      2\u001b[0m \u001b[0mdistcount_dict\u001b[0m \u001b[1;33m=\u001b[0m \u001b[1;33m{\u001b[0m\u001b[1;33m}\u001b[0m\u001b[1;33m\u001b[0m\u001b[1;33m\u001b[0m\u001b[0m\n\u001b[1;32m----> 3\u001b[1;33m \u001b[1;32mfor\u001b[0m \u001b[0mrow\u001b[0m \u001b[1;32min\u001b[0m \u001b[0mactdf\u001b[0m\u001b[1;33m.\u001b[0m\u001b[0mindex\u001b[0m\u001b[1;33m:\u001b[0m\u001b[1;33m\u001b[0m\u001b[1;33m\u001b[0m\u001b[0m\n\u001b[0m\u001b[0;32m      4\u001b[0m     \u001b[1;31m#print(row)\u001b[0m\u001b[1;33m\u001b[0m\u001b[1;33m\u001b[0m\u001b[1;33m\u001b[0m\u001b[0m\n\u001b[0;32m      5\u001b[0m     \u001b[0mc\u001b[0m \u001b[1;33m=\u001b[0m \u001b[0mactdf\u001b[0m\u001b[1;33m[\u001b[0m\u001b[1;34m'CName'\u001b[0m\u001b[1;33m]\u001b[0m\u001b[1;33m[\u001b[0m\u001b[0mrow\u001b[0m\u001b[1;33m]\u001b[0m\u001b[1;33m\u001b[0m\u001b[1;33m\u001b[0m\u001b[0m\n",
      "\u001b[1;31mNameError\u001b[0m: name 'actdf' is not defined"
     ]
    }
   ],
   "source": [
    "#I wanted a dictionary mapping school districts to state counties to investigate higher-level statistics. The Equity data set did not have \n",
    "distcount_dict = {}\n",
    "for row in actdf.index:\n",
    "    #print(row)\n",
    "    c = actdf['CName'][row]\n",
    "    d = actdf['DName'][row]\n",
    "    #print(c)\n",
    "    #print(d)\n",
    "    if c in distcount_dict:\n",
    "        if d not in distcount_dict[c]:\n",
    "            distcount_dict[c].append(d)\n",
    "    else:\n",
    "        #distcount_dict[c] = set([d])\n",
    "        #distcount_dict.update({c:d}) \n",
    "        distcount_dict.update({c:[d]})\n",
    "distcount_dict.keys()   \n",
    "distcount_dict.get('Riverside')\n",
    "act_districtdf['county_name'].sort_values().unique()"
   ]
  },
  {
   "cell_type": "code",
   "execution_count": null,
   "metadata": {},
   "outputs": [],
   "source": [
    "#EDA\n",
    "finaldf['bench_over_enrolled'] = finaldf['num_over_benchmark_sat']/finaldf['enrolled_seniors_x']\n",
    "finaldf[finaldf['bench_over_enrolled']>.44]"
   ]
  },
  {
   "cell_type": "markdown",
   "metadata": {},
   "source": [
    "**The school with the highest rate of seniors enrolled performing above avg on the SAT is almost 45%**:\n",
    "- The average is MUCH lower at almost 16%.\n",
    "- La Canada Unified School District in LA County scored 141.78 in Equity, way above average!"
   ]
  },
  {
   "cell_type": "code",
   "execution_count": null,
   "metadata": {},
   "outputs": [],
   "source": [
    "finaldf[finaldf['num_over_benchmark_act']>2000]\n",
    "finaldf[finaldf['num_over_benchmark_sat']>2000]"
   ]
  },
  {
   "cell_type": "markdown",
   "metadata": {},
   "source": [
    "**Los Angeles Unified School District is by far the largest**:\n",
    "- It would be interesting to look at schools within the district for performance and see what the variation is in performance."
   ]
  },
  {
   "cell_type": "code",
   "execution_count": null,
   "metadata": {},
   "outputs": [],
   "source": [
    "#Code:\n",
    "#Combine enrollment and test-taking numbers to calc participation percentages for ease of comparison\n",
    "act_districtdf['percent_participation'] = round((act_districtdf['tested_seniors']/act_districtdf['enrolled_seniors']),4)\n",
    "sat_districtdf['percent_participation'] = round((sat_districtdf['tested_seniors']/sat_districtdf['enrolled_seniors']),4)\n",
    "\n",
    "#Identify issue with interpretation of dataset. Total No. of test takers shoud not exceed No. of seniors\n",
    "print(act_districtdf[act_districtdf['percent_participation']>100]) #actdf.index == [1400, 1504, 1601] > 100% participation!\n",
    "print(actdf[actdf.index == 1400])\n",
    "print(sat_districtdf[sat_districtdf['percent_participation']>=100]) #SAT data checks out"
   ]
  },
  {
   "cell_type": "markdown",
   "metadata": {},
   "source": [
    "**Participation of Seniors in taking standardized tests**:\n",
    "- ACT data set has unusual information with numbers resulting in greater than 100% participation.\n",
    "- SAT data set does not have the same issue as the ACT data"
   ]
  },
  {
   "cell_type": "code",
   "execution_count": null,
   "metadata": {},
   "outputs": [],
   "source": [
    "#Scores above benchmark threshold DataFrames\n",
    "print(finaldf[['score','pct_over_benchmark_sat','pct_over_benchmark_act','rank']].sort_values('rank').tail(10))\n",
    "print(finaldf[['pct_over_benchmark_sat','pct_over_benchmark_act']].describe())"
   ]
  },
  {
   "cell_type": "markdown",
   "metadata": {},
   "source": [
    "**All 10 of the Least Equitable School Districts Have High Scoring Seniors**:\n",
    "- On avg 55.9% of test takers scored above 21 on the composite ACT, but the 10 most equitable schools have higher avg percent\n",
    "- On avg 48.5% of test takers scored above benchmark on the combined SAT, but the 10 most equitable schools have higher avg percent scoring above that."
   ]
  },
  {
   "cell_type": "code",
   "execution_count": null,
   "metadata": {},
   "outputs": [],
   "source": []
  }
 ],
 "metadata": {
  "kernelspec": {
   "display_name": "Python 3",
   "language": "python",
   "name": "python3"
  },
  "language_info": {
   "codemirror_mode": {
    "name": "ipython",
    "version": 3
   },
   "file_extension": ".py",
   "mimetype": "text/x-python",
   "name": "python",
   "nbconvert_exporter": "python",
   "pygments_lexer": "ipython3",
   "version": "3.8.3"
  }
 },
 "nbformat": 4,
 "nbformat_minor": 4
}
