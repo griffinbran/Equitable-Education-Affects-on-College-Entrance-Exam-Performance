{
 "cells": [
  {
   "cell_type": "markdown",
   "metadata": {},
   "source": [
    "## Visualize the Data\n",
    "\n",
    "There's not a magic bullet recommendation for the right number of plots to understand a given dataset, but visualizing your data is *always* a good idea. Not only does it allow you to quickly convey your findings (even if you have a non-technical audience), it will often reveal trends in your data that escaped you when you were looking only at numbers. It is important to not only create visualizations, but to **interpret your visualizations** as well.\n",
    "\n",
    "**Every plot should**:\n",
    "- Have a title\n",
    "- Have axis labels\n",
    "- Have appropriate tick labels\n",
    "- Text is legible in a plot\n",
    "- Plots demonstrate meaningful and valid relationships\n",
    "- Have an interpretation to aid understanding\n",
    "\n",
    "Here is an example of what your plots should look like following the above guidelines. Note that while the content of this example is unrelated, the principles of visualization hold:\n",
    "\n",
    "![](https://snag.gy/hCBR1U.jpg)\n",
    "*Interpretation: The above image shows that as we increase our spending on advertising, our sales numbers also tend to increase. There is a positive correlation between advertising spending and sales.*\n",
    "\n",
    "---\n",
    "\n",
    "Here are some prompts to get you started with visualizations. Feel free to add additional visualizations as you see fit:\n",
    "1. Use Seaborn's heatmap with pandas `.corr()` to visualize correlations between all numeric features.\n",
    "    - Heatmaps are generally not appropriate for presentations, and should often be excluded from reports as they can be visually overwhelming. **However**, they can be extremely useful in identify relationships of potential interest (as well as identifying potential collinearity before modeling).\n",
    "    - Please take time to format your output, adding a title. Look through some of the additional arguments and options. (Axis labels aren't really necessary, as long as the title is informative).\n",
    "2. Visualize distributions using histograms. If you have a lot, consider writing a custom function and use subplots.\n",
    "    - *OPTIONAL*: Summarize the underlying distributions of your features (in words & statistics)\n",
    "         - Be thorough in your verbal description of these distributions.\n",
    "         - Be sure to back up these summaries with statistics.\n",
    "         - We generally assume that data we sample from a population will be normally distributed. Do we observe this trend? Explain your answers for each distribution and how you think this will affect estimates made from these data.\n",
    "3. Plot and interpret boxplots. \n",
    "    - Boxplots demonstrate central tendency and spread in variables. In a certain sense, these are somewhat redundant with histograms, but you may be better able to identify clear outliers or differences in IQR, etc.\n",
    "    - Multiple values can be plotted to a single boxplot as long as they are of the same relative scale (meaning they have similar min/max values).\n",
    "    - Each boxplot should:\n",
    "        - Only include variables of a similar scale\n",
    "        - Have clear labels for each variable\n",
    "        - Have appropriate titles and labels\n",
    "4. Plot and interpret scatter plots to view relationships between features. Feel free to write a custom function, and subplot if you'd like. Functions save both time and space.\n",
    "    - Your plots should have:\n",
    "        - Two clearly labeled axes\n",
    "        - A proper title\n",
    "        - Colors and symbols that are clear and unmistakable\n",
    "5. Additional plots of your choosing.\n",
    "    - Are there any additional trends or relationships you haven't explored? Was there something interesting you saw that you'd like to dive further into? It's likely that there are a few more plots you might want to generate to support your narrative and recommendations that you are building toward. **As always, make sure you're interpreting your plots as you go**."
   ]
  },
  {
   "cell_type": "code",
   "execution_count": null,
   "metadata": {},
   "outputs": [],
   "source": [
    "#Heatmap\n",
    "# Establish size of figure.\n",
    "plt.figure(figsize = (20, 7));\n",
    "\n",
    "# Get correlation of variables.\n",
    "corr = finaldf.corr();\n",
    "\n",
    "# Set up mask to be \"True\" in the upper triangle.\n",
    "mask = np.zeros_like(corr)\n",
    "mask[np.triu_indices_from(mask)] = True\n",
    "\n",
    "# Plot our correlation heatmap, while masking the upper triangle to be white.\n",
    "sns.heatmap(corr, mask = mask, cmap = 'mako', annot = True);\n",
    "\n",
    "plt.xticks(rotation = 50);\n",
    "plt.title('12th Grade SAT/ACT & Equitable CA School District',fontsize=20);"
   ]
  },
  {
   "cell_type": "markdown",
   "metadata": {},
   "source": [
    "**Heatmap Interpretation**: Here is a nice look at the correlation of all parameters considered. Note that there are several mint green cells highlighting the strongest positive correlations, many of which indicate :\n",
    "- 0.97 for the number of 12th graders enrolled in the school district and the number of seniors that took the SAT\n",
    "- 0.93 for the number of 12th graders enrolled in the school district and the number of seniors that took the ACT\n",
    "- 0.95 for the number of 12th graders enrolled in the school district and the number of seniors that scored above the threshold SAT benchmark defined by the College Board.\n",
    "- 0.81 for the number of 12th graders enrolled in the school district and the number of seniors that scored at least a 21 composite ACT.\n",
    "- Most notably, mean household income has 0.65 and 0.69 correlations with the number of 12th graders acheiving the minimum thresholds set by the ACT and SAT respectively."
   ]
  },
  {
   "cell_type": "code",
   "execution_count": null,
   "metadata": {},
   "outputs": [],
   "source": [
    "#Histogram\n",
    "plt.figure(figsize = (10, 5))\n",
    "\n",
    "# Plot it\n",
    "# colors: https://matplotlib.org/3.1.0/gallery/color/named_colors.html\n",
    "plt.hist(finaldf['score'],bins=20, color = 'navy')\n",
    "\n",
    "# Create a descriptive title\n",
    "plt.title('Distribution of Equity Scores for CA Public School Districts in 2019')\n",
    "\n",
    "# Do we need axis lables here?\n",
    "plt.xlabel('Equitable District Scores');\n",
    "finaldf['score'].describe()"
   ]
  },
  {
   "cell_type": "markdown",
   "metadata": {},
   "source": [
    "**Histogram Interpretation**: Here it can be seen that the mean equity score of CA School Districts is 30.9. The standard deviation is about 28, with the median score of 25.6. Note that the least equitable school districts, that is scores in the top 25% have an aboslute difference of more than 40:\n",
    "- This suggests that the majority of districts are closely ranked, but there are a handful of standouts.\n",
    "- District scores greater than upper 75th quartile seem to interesting for further consideration."
   ]
  },
  {
   "cell_type": "code",
   "execution_count": null,
   "metadata": {},
   "outputs": [],
   "source": [
    "#Histogram\n",
    "fig, (ax0, ax1) = plt.subplots(nrows=1,ncols=2, sharey=False, figsize = (10, 5));\n",
    "# Plot it\n",
    "# colors: https://matplotlib.org/3.1.0/gallery/color/named_colors.html\n",
    "sns.boxplot(finaldf['pct_over_benchmark_sat'], color = 'navy', ax=ax0)\n",
    "sns.boxplot(finaldf['pct_over_benchmark_act'], color = 'navy',ax=ax1)\n",
    "\n",
    "# Create a descriptive title\n",
    "ax0.set_xlabel('% Scoring Above Benchmark',fontsize=15);\n",
    "ax0.set_title('12th Grade Combined SAT Scores',fontsize=15)\n",
    "\n",
    "ax1.set_xlabel( '% Scoring Above 21',fontsize=15);\n",
    "ax1.set_title('12th Grade Composite ACT Scores',fontsize=15);\n",
    "\n",
    "# Look at the numbers to compare with the histogram\n",
    "print(finaldf['pct_over_benchmark_sat'].describe())\n",
    "print(finaldf['pct_over_benchmark_act'].describe())"
   ]
  },
  {
   "cell_type": "markdown",
   "metadata": {},
   "source": [
    "**Box Plot Interpretation**: The above box plots highlight the contrast in distribution of test-takers scoring above average on the SATs and ACTs:\n",
    "- The two distributions have a similar spread with standard deviations around 22\n",
    "- The mean percentage of SAT students scoring above average is 48.5% while the ACT is 55.9%, this is an indication of how the results of these two exams should be only carefully compared."
   ]
  },
  {
   "cell_type": "code",
   "execution_count": null,
   "metadata": {},
   "outputs": [],
   "source": [
    "# Code\n",
    "# 4. Scatter Plots\n",
    "fig, (ax0, ax1) = plt.subplots(nrows=1,ncols=2, sharey=False, figsize = (30, 5));\n",
    "\n",
    "#Plot scatter plot of percentage of seniors scoring above benchmark SAT scores as a function of School District Equity Score\n",
    "sns.regplot( x='score', y='pct_over_benchmark_sat', data=finaldf, ax=ax0);\n",
    "# Plot scatter plot of percentage of seniors scoring above benchmark SACT composite scores as a function of School District Equity Score\n",
    "sns.regplot( x='score', y='pct_over_benchmark_act', data=finaldf,ax=ax1,);\n",
    "\n",
    "ax0.set_xlabel('CA School District Equity Score',fontsize=20);\n",
    "ax0.set_ylabel('% Scoring Above Benchmark',fontsize=17);\n",
    "ax0.set_title('12th Grade SAT Test-Takers',fontsize=25)\n",
    "\n",
    "ax1.set_xlabel('CA School District Equity Score',fontsize=20);\n",
    "ax1.set_ylabel( '% Scoring Above 21',fontsize=20);\n",
    "ax1.set_title('12th Grade ACT Test-Takers',fontsize=25);\n"
   ]
  },
  {
   "cell_type": "markdown",
   "metadata": {},
   "source": [
    "**Scatter Plot Interpretation**: The scatter plots above suggest perhaps there is a trend for districts scoring above 40:\n",
    "- The two plots reinforce that districts scoring less than 40 in equity don't follow trends related to above average test taker perfromance.\n",
    "- Higher scoring districts, the least equitable, tend to have a higher percentage of test-takers scoring above average on BOTH the SAT and the ACT."
   ]
  },
  {
   "cell_type": "code",
   "execution_count": null,
   "metadata": {},
   "outputs": [],
   "source": []
  }
 ],
 "metadata": {
  "kernelspec": {
   "display_name": "Python 3",
   "language": "python",
   "name": "python3"
  },
  "language_info": {
   "codemirror_mode": {
    "name": "ipython",
    "version": 3
   },
   "file_extension": ".py",
   "mimetype": "text/x-python",
   "name": "python",
   "nbconvert_exporter": "python",
   "pygments_lexer": "ipython3",
   "version": "3.8.3"
  }
 },
 "nbformat": 4,
 "nbformat_minor": 4
}
